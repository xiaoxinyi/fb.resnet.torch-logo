{
 "cells": [
  {
   "cell_type": "code",
   "execution_count": 1,
   "metadata": {
    "collapsed": true
   },
   "outputs": [],
   "source": [
    "import re"
   ]
  },
  {
   "cell_type": "code",
   "execution_count": 2,
   "metadata": {
    "collapsed": false
   },
   "outputs": [],
   "source": [
    "# read from log file\n",
    "log_file = 'adidas.log'\n",
    "with open(log_file, 'r') as f:\n",
    "    lines = f.readlines()"
   ]
  },
  {
   "cell_type": "code",
   "execution_count": 3,
   "metadata": {
    "collapsed": false
   },
   "outputs": [],
   "source": [
    "class LogCategory(object):\n",
    "    def __init__(self, score, id, name):\n",
    "        self.score = score\n",
    "        self.id = id\n",
    "        self.name = name\n",
    "        #return self"
   ]
  },
  {
   "cell_type": "code",
   "execution_count": 4,
   "metadata": {
    "collapsed": false
   },
   "outputs": [],
   "source": [
    "def parse_from_record(record):\n",
    "    \"\"\"Convert a record string to a `LogCategory` object\"\"\"\n",
    "    r = record.replace(',', ' ').split()\n",
    "    r[2] = r[2].decode('utf-8')\n",
    "    \n",
    "    return LogCategory(r[0], r[1], r[2])\n"
   ]
  },
  {
   "cell_type": "code",
   "execution_count": 5,
   "metadata": {
    "collapsed": false
   },
   "outputs": [],
   "source": [
    "def get_error_images(ground_truth):\n",
    "    res = {}\n",
    "    for (k, v) in dict_log.items():\n",
    "        # v[0] top-1 \n",
    "        if int(v[0].id) not in ground_truth:\n",
    "            res[k] = v\n",
    "    return res"
   ]
  },
  {
   "cell_type": "code",
   "execution_count": null,
   "metadata": {
    "collapsed": true
   },
   "outputs": [],
   "source": [
    "pattern = '/(\\d+\\.jpg)'\n",
    "topk = 5"
   ]
  },
  {
   "cell_type": "code",
   "execution_count": 6,
   "metadata": {
    "collapsed": false
   },
   "outputs": [
    {
     "name": "stdout",
     "output_type": "stream",
     "text": [
      "Over!\n"
     ]
    }
   ],
   "source": [
    "lines = iter(lines)\n",
    "dict_log = {}\n",
    "\n",
    "while True:\n",
    "    classify_results = []\n",
    "    try:\n",
    "        line = lines.next()\n",
    "        if not line or len(line) == 0:\n",
    "            continue\n",
    "        #print line\n",
    "        result = re.search(pattern, line)\n",
    "        \n",
    "        if result:\n",
    "            img_name = result.groups()[0]\n",
    "            \n",
    "            # topk score records \n",
    "            for i in xrange(topk):\n",
    "                line = lines.next().strip()\n",
    "                # print line\n",
    "                line = parse_from_record(line)\n",
    "                classify_results.append(line)\n",
    "            dict_log[img_name] = classify_results\n",
    "    except StopIteration:\n",
    "        print 'Over!'\n",
    "        break\n",
    "        \n",
    "\n",
    "    \n",
    "    "
   ]
  },
  {
   "cell_type": "code",
   "execution_count": 7,
   "metadata": {
    "collapsed": true
   },
   "outputs": [],
   "source": [
    "# set ground truth Note: adidas has two\n",
    "ground_truth = [16, 30]"
   ]
  },
  {
   "cell_type": "code",
   "execution_count": 8,
   "metadata": {
    "collapsed": true
   },
   "outputs": [],
   "source": [
    "# get a dictionary of error classified images\n",
    "error_images = get_error_images(ground_truth)"
   ]
  },
  {
   "cell_type": "code",
   "execution_count": 9,
   "metadata": {
    "collapsed": false
   },
   "outputs": [
    {
     "name": "stdout",
     "output_type": "stream",
     "text": [
      "31\n"
     ]
    }
   ],
   "source": [
    "# print the number of error classified images\n",
    "print len(error_images)"
   ]
  },
  {
   "cell_type": "code",
   "execution_count": 10,
   "metadata": {
    "collapsed": false
   },
   "outputs": [
    {
     "name": "stdout",
     "output_type": "stream",
     "text": [
      "3807811747.jpg\n",
      "0.47196781635284 00034 保时捷logo\n",
      "0.18790794909 00025 李宁logo\n",
      "0.10715268552303 00043 dota2logo\n",
      "0.049408547580242 00008 百度logo\n",
      "0.039124388247728 00024 三棱logo\n",
      "3068575660.jpg\n",
      "0.94104140996933 00029 七匹狼logo\n",
      "0.050800461322069 00007 新东方logo\n",
      "0.0046888771466911 00033 美团logo\n",
      "0.00070653558941558 00006 凯迪拉克logo\n",
      "0.00068298005498946 00023 小米logo\n",
      "4189380081.jpg\n",
      "0.37150105834007 00029 七匹狼logo\n",
      "0.30175629258156 00036 耐克logo\n",
      "0.142726957798 00020 法拉利logo\n",
      "0.06667122989893 00018 德芙logo\n",
      "0.042874187231064 00008 百度logo\n",
      "4944597625.jpg\n",
      "0.43297964334488 00036 耐克logo\n",
      "0.20017874240875 00020 法拉利logo\n",
      "0.12156561762094 00001 香奈儿logo\n",
      "0.085046507418156 00041 玛莎拉蒂logo\n",
      "0.060892697423697 00029 七匹狼logo\n",
      "5132658734.jpg\n",
      "0.52798020839691 00006 凯迪拉克logo\n",
      "0.22427766025066 00022 本田logo\n",
      "0.11649893969297 00028 奥迪logo\n",
      "0.077399514615536 00020 法拉利logo\n",
      "0.022221049293876 00043 dota2logo\n",
      "4741458963.jpg\n",
      "0.40496531128883 00034 保时捷logo\n",
      "0.14105865359306 00003 古奇logo\n",
      "0.094650663435459 00010 pradalogo\n",
      "0.080596163868904 00015 路虎logo\n",
      "0.072922118008137 00006 凯迪拉克logo\n",
      "4302098136.jpg\n",
      "0.99439632892609 00011 劳斯莱斯logo\n",
      "0.0020551274064928 00034 保时捷logo\n",
      "0.0012450638459995 00004 联想logo\n",
      "0.00050578289665282 00022 本田logo\n",
      "0.00044223654549569 00003 古奇logo\n",
      "4343574791.jpg\n",
      "0.44013607501984 00034 保时捷logo\n",
      "0.17425616085529 00022 本田logo\n",
      "0.09233570098877 00006 凯迪拉克logo\n",
      "0.08339885622263 00041 玛莎拉蒂logo\n",
      "0.068295754492283 00028 奥迪logo\n",
      "4955394412.jpg\n",
      "0.4859704375267 00036 耐克logo\n",
      "0.42605417966843 00018 德芙logo\n",
      "0.033191561698914 00029 七匹狼logo\n",
      "0.029914852231741 00017 兰博基尼logo\n",
      "0.019614160060883 00034 保时捷logo\n",
      "4817017030.jpg\n",
      "0.54933178424835 00029 七匹狼logo\n",
      "0.11105408519506 00026 宝马logo\n",
      "0.067710101604462 00018 德芙logo\n",
      "0.060432601720095 00004 联想logo\n",
      "0.043032452464104 00010 pradalogo\n",
      "5057439061.jpg\n",
      "0.54237967729568 00034 保时捷logo\n",
      "0.35595744848251 00036 耐克logo\n",
      "0.030004639178514 00017 兰博基尼logo\n",
      "0.02208998426795 00030 阿迪达斯logo\n",
      "0.021455960348248 00013 星巴克logo\n",
      "4263386852.jpg\n",
      "0.4309689104557 00010 pradalogo\n",
      "0.21940325200558 00017 兰博基尼logo\n",
      "0.11517234146595 00015 路虎logo\n",
      "0.11197586357594 00026 宝马logo\n",
      "0.074324443936348 00041 玛莎拉蒂logo\n",
      "3426961300.jpg\n",
      "0.4822059571743 00029 七匹狼logo\n",
      "0.1210980117321 00036 耐克logo\n",
      "0.11103637516499 00003 古奇logo\n",
      "0.068562351167202 00025 李宁logo\n",
      "0.05198123306036 00034 保时捷logo\n",
      "4841250854.jpg\n",
      "0.83974671363831 00022 本田logo\n",
      "0.065010204911232 00042 福特logo\n",
      "0.036772876977921 00041 玛莎拉蒂logo\n",
      "0.016667101532221 00020 法拉利logo\n",
      "0.011601783335209 00026 宝马logo\n",
      "2965939141.jpg\n",
      "0.97316145896912 00041 玛莎拉蒂logo\n",
      "0.019033825024962 00008 百度logo\n",
      "0.0030105630867183 00038 奔驰logo\n",
      "0.0012914756080136 00044 华为logo\n",
      "0.0011994662927464 00034 保时捷logo\n",
      "4359633049.jpg\n",
      "0.50187683105469 00015 路虎logo\n",
      "0.23083119094372 00043 dota2logo\n",
      "0.04708268865943 00038 奔驰logo\n",
      "0.046342104673386 00004 联想logo\n",
      "0.035774629563093 00044 华为logo\n",
      "4910710794.jpg\n",
      "0.34693568944931 00029 七匹狼logo\n",
      "0.25749132037163 00036 耐克logo\n",
      "0.082175530493259 00006 凯迪拉克logo\n",
      "0.058806899935007 00027 丰田logo\n",
      "0.057670749723911 00022 本田logo\n",
      "3441398196.jpg\n",
      "0.81046283245087 00004 联想logo\n",
      "0.11778563261032 00030 阿迪达斯logo\n",
      "0.058905739337206 00016 三叶草logo\n",
      "0.0048311245627701 00003 古奇logo\n",
      "0.0019203952979296 00027 丰田logo\n",
      "4763210295.jpg\n",
      "0.84352946281433 00008 百度logo\n",
      "0.028346652165055 00004 联想logo\n",
      "0.027731202542782 00038 奔驰logo\n",
      "0.022817449644208 00034 保时捷logo\n",
      "0.019728304818273 00041 玛莎拉蒂logo\n",
      "4457240777.jpg\n",
      "0.78438705205917 00017 兰博基尼logo\n",
      "0.082648202776909 00029 七匹狼logo\n",
      "0.045491144061089 00016 三叶草logo\n",
      "0.035676013678312 00030 阿迪达斯logo\n",
      "0.026484526693821 00036 耐克logo\n",
      "451265524.jpg\n",
      "0.23346422612667 00011 劳斯莱斯logo\n",
      "0.18290674686432 00043 dota2logo\n",
      "0.16703419387341 00023 小米logo\n",
      "0.10638949275017 00017 兰博基尼logo\n",
      "0.097235947847366 00036 耐克logo\n",
      "4910105661.jpg\n",
      "0.58851772546768 00041 玛莎拉蒂logo\n",
      "0.23491054773331 00022 本田logo\n",
      "0.082661233842373 00030 阿迪达斯logo\n",
      "0.040903892368078 00016 三叶草logo\n",
      "0.010582059621811 00021 魅族logo\n",
      "5105439179.jpg\n",
      "0.55485934019089 00001 香奈儿logo\n",
      "0.18423239886761 00020 法拉利logo\n",
      "0.044928018003702 00027 丰田logo\n",
      "0.033163547515869 00003 古奇logo\n",
      "0.032689038664103 00026 宝马logo\n",
      "5072147973.jpg\n",
      "0.63793784379959 00017 兰博基尼logo\n",
      "0.12969686090946 00006 凯迪拉克logo\n",
      "0.11722522228956 00022 本田logo\n",
      "0.052515231072903 00034 保时捷logo\n",
      "0.032622937113047 00011 劳斯莱斯logo\n",
      "4763207899.jpg\n",
      "0.4174562394619 00034 保时捷logo\n",
      "0.22171273827553 00004 联想logo\n",
      "0.12870641052723 00008 百度logo\n",
      "0.067988134920597 00038 奔驰logo\n",
      "0.030771156772971 00017 兰博基尼logo\n",
      "4910097689.jpg\n",
      "0.22266371548176 00020 法拉利logo\n",
      "0.17584198713303 00036 耐克logo\n",
      "0.14559750258923 00025 李宁logo\n",
      "0.10602881759405 00029 七匹狼logo\n",
      "0.07489537447691 00026 宝马logo\n",
      "4605630935.jpg\n",
      "0.90785866975784 00017 兰博基尼logo\n",
      "0.039778985083103 00011 劳斯莱斯logo\n",
      "0.0081084175035357 00020 法拉利logo\n",
      "0.0080706821754575 00006 凯迪拉克logo\n",
      "0.0074596917256713 00015 路虎logo\n",
      "395683573.jpg\n",
      "0.55418556928635 00041 玛莎拉蒂logo\n",
      "0.38900825381279 00025 李宁logo\n",
      "0.013127137906849 00029 七匹狼logo\n",
      "0.0088319443166256 00004 联想logo\n",
      "0.0061952415853739 00034 保时捷logo\n",
      "5072753312.jpg\n",
      "0.59018099308014 00036 耐克logo\n",
      "0.11763791739941 00029 七匹狼logo\n",
      "0.09521409869194 00025 李宁logo\n",
      "0.085826240479946 00021 魅族logo\n",
      "0.076733745634556 00030 阿迪达斯logo\n",
      "4649856382.jpg\n",
      "0.54478085041046 00041 玛莎拉蒂logo\n",
      "0.41246604919434 00015 路虎logo\n",
      "0.027470959350467 00008 百度logo\n",
      "0.0086130490526557 00027 丰田logo\n",
      "0.0014340112684295 00034 保时捷logo\n",
      "2345541572.jpg\n",
      "0.86323750019073 00034 保时捷logo\n",
      "0.083032451570034 00037 麦当劳logo\n",
      "0.017722858116031 00003 古奇logo\n",
      "0.015398251824081 00001 香奈儿logo\n",
      "0.0058215702883899 00010 pradalogo\n"
     ]
    }
   ],
   "source": [
    "# print all the information of error images\n",
    "for (k, v) in error_images.iteritems():\n",
    "    print k\n",
    "    for e in v:\n",
    "        print e.score, e.id, e.name\n",
    "    "
   ]
  },
  {
   "cell_type": "code",
   "execution_count": 11,
   "metadata": {
    "collapsed": false
   },
   "outputs": [
    {
     "name": "stdout",
     "output_type": "stream",
     "text": [
      "70\n"
     ]
    }
   ],
   "source": [
    "print len(dict_log)"
   ]
  },
  {
   "cell_type": "code",
   "execution_count": null,
   "metadata": {
    "collapsed": true
   },
   "outputs": [],
   "source": []
  }
 ],
 "metadata": {
  "kernelspec": {
   "display_name": "Python 2",
   "language": "python",
   "name": "python2"
  },
  "language_info": {
   "codemirror_mode": {
    "name": "ipython",
    "version": 2
   },
   "file_extension": ".py",
   "mimetype": "text/x-python",
   "name": "python",
   "nbconvert_exporter": "python",
   "pygments_lexer": "ipython2",
   "version": "2.7.6"
  }
 },
 "nbformat": 4,
 "nbformat_minor": 0
}
