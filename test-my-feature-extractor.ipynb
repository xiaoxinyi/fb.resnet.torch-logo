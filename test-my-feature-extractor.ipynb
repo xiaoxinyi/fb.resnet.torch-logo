{
 "cells": [
  {
   "cell_type": "code",
   "execution_count": 1,
   "metadata": {
    "collapsed": false
   },
   "outputs": [
    {
     "ename": "./pretrained/my-extract-features.lua:7: module 'transforms' not found:\n\tno field package.preload['transforms']\n\tno file '/root/.luarocks/share/lua/5.1/transforms.lua'\n\tno file '/root/.luarocks/share/lua/5.1/transforms/init.lua'\n\tno file '/root/dl-data/torch/install/share/lua/5.1/transforms.lua'\n\tno file '/root/dl-data/torch/install/share/lua/5.1/transforms/init.lua'\n\tno file './transforms.lua'\n\tno file '/root/dl-data/torch/install/share/luajit-2.1.0-beta1/transforms.lua'\n\tno file '/usr/local/share/lua/5.1/transforms.lua'\n\tno file '/usr/local/share/lua/5.1/transforms/init.lua'\n\tno file '/root/dl-data/torch/install/lib/transforms.so'\n\tno file '/root/.luarocks/lib/lua/5.1/transforms.so'\n\tno file '/root/dl-data/torch/install/lib/lua/5.1/transforms.so'\n\tno file './transforms.so'\n\tno file '/usr/local/lib/lua/5.1/transforms.so'\n\tno file '/usr/local/lib/lua/5.1/loadall.so'\nstack traceback:\n\t[C]: in function 'require'\n\t./pretrained/my-extract-features.lua:7: in main chunk\n\t[C]: in function 'f'\n\t[string \"local f = function() return require('pretrain...\"]:1: in main chunk\n\t[C]: in function 'xpcall'\n\t/root/dl-data/torch/install/share/lua/5.1/itorch/main.lua:209: in function </root/dl-data/torch/install/share/lua/5.1/itorch/main.lua:173>\n\t/root/dl-data/torch/install/share/lua/5.1/lzmq/poller.lua:75: in function 'poll'\n\t...t/dl-data/torch/install/share/lua/5.1/lzmq/impl/loop.lua:307: in function 'poll'\n\t...t/dl-data/torch/install/share/lua/5.1/lzmq/impl/loop.lua:325: in function 'sleep_ex'\n\t...t/dl-data/torch/install/share/lua/5.1/lzmq/impl/loop.lua:370: in function 'start'\n\t/root/dl-data/torch/install/share/lua/5.1/itorch/main.lua:381: in main chunk\n\t[C]: in function 'require'\n\t(command line):1: in main chunk\n\t[C]: at 0x00406670",
     "evalue": "",
     "output_type": "error",
     "traceback": [
      "./pretrained/my-extract-features.lua:7: module 'transforms' not found:\n\tno field package.preload['transforms']\n\tno file '/root/.luarocks/share/lua/5.1/transforms.lua'\n\tno file '/root/.luarocks/share/lua/5.1/transforms/init.lua'\n\tno file '/root/dl-data/torch/install/share/lua/5.1/transforms.lua'\n\tno file '/root/dl-data/torch/install/share/lua/5.1/transforms/init.lua'\n\tno file './transforms.lua'\n\tno file '/root/dl-data/torch/install/share/luajit-2.1.0-beta1/transforms.lua'\n\tno file '/usr/local/share/lua/5.1/transforms.lua'\n\tno file '/usr/local/share/lua/5.1/transforms/init.lua'\n\tno file '/root/dl-data/torch/install/lib/transforms.so'\n\tno file '/root/.luarocks/lib/lua/5.1/transforms.so'\n\tno file '/root/dl-data/torch/install/lib/lua/5.1/transforms.so'\n\tno file './transforms.so'\n\tno file '/usr/local/lib/lua/5.1/transforms.so'\n\tno file '/usr/local/lib/lua/5.1/loadall.so'\nstack traceback:\n\t[C]: in function 'require'\n\t./pretrained/my-extract-features.lua:7: in main chunk\n\t[C]: in function 'f'\n\t[string \"local f = function() return require('pretrain...\"]:1: in main chunk\n\t[C]: in function 'xpcall'\n\t/root/dl-data/torch/install/share/lua/5.1/itorch/main.lua:209: in function </root/dl-data/torch/install/share/lua/5.1/itorch/main.lua:173>\n\t/root/dl-data/torch/install/share/lua/5.1/lzmq/poller.lua:75: in function 'poll'\n\t...t/dl-data/torch/install/share/lua/5.1/lzmq/impl/loop.lua:307: in function 'poll'\n\t...t/dl-data/torch/install/share/lua/5.1/lzmq/impl/loop.lua:325: in function 'sleep_ex'\n\t...t/dl-data/torch/install/share/lua/5.1/lzmq/impl/loop.lua:370: in function 'start'\n\t/root/dl-data/torch/install/share/lua/5.1/itorch/main.lua:381: in main chunk\n\t[C]: in function 'require'\n\t(command line):1: in main chunk\n\t[C]: at 0x00406670"
     ]
    }
   ],
   "source": [
    "require('pretrained/my-extract-features')"
   ]
  },
  {
   "cell_type": "code",
   "execution_count": null,
   "metadata": {
    "collapsed": false
   },
   "outputs": [],
   "source": [
    "a = FeatureExtractor('models-torch/resnet-50.t7')"
   ]
  },
  {
   "cell_type": "code",
   "execution_count": null,
   "metadata": {
    "collapsed": false
   },
   "outputs": [],
   "source": [
    "img_dir = 'data/pradalogo'"
   ]
  },
  {
   "cell_type": "code",
   "execution_count": null,
   "metadata": {
    "collapsed": false
   },
   "outputs": [],
   "source": [
    "b = a:extract(img_dir)"
   ]
  },
  {
   "cell_type": "code",
   "execution_count": null,
   "metadata": {
    "collapsed": false
   },
   "outputs": [],
   "source": [
    "print(b:size())"
   ]
  },
  {
   "cell_type": "code",
   "execution_count": null,
   "metadata": {
    "collapsed": true
   },
   "outputs": [],
   "source": []
  }
 ],
 "metadata": {
  "kernelspec": {
   "display_name": "iTorch",
   "language": "lua",
   "name": "itorch"
  },
  "language_info": {
   "name": "lua",
   "version": "5.1"
  }
 },
 "nbformat": 4,
 "nbformat_minor": 0
}
